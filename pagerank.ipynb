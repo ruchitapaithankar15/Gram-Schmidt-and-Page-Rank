{
 "cells": [
  {
   "cell_type": "markdown",
   "metadata": {},
   "source": [
    "## Gram-Schmidt and Page Rank\n",
    "### Submission preparation instructions \n",
    "_Completion of this header is mandatory, subject to a 2-point deduction to the assignment._ Only add plain text in the designated areas, i.e., replacing the relevant 'NA's. You must fill out all group member Names and Drexel email addresses in the below markdown list, under header __Module submission group__. It is required to fill out descriptive notes pertaining to any tutoring support received in the completion of this submission under the __Additional submission comments__ section at the bottom of the header. If no tutoring support was received, leave NA in place. You may as well list other optional comments pertaining to the submission at bottom. _Any distruption of this header's formatting will make your group liable to the 2-point deduction._\n",
    "\n",
    "### Module submission group\n",
    "- Group member 1\n",
    "    - Name: Ruchita Paithankar\n",
    "    - Email: \n",
    "- Group member 2\n",
    "    - Name: \n",
    "    - Email: \n",
    "- Group member 3\n",
    "    - Name: \n",
    "    - Email:\n",
    "- Group member 4\n",
    "    - Name: NA\n",
    "    - Email: NA\n",
    "\n",
    "### Additional submission comments\n",
    "- Tutoring support received: NA\n",
    "- Other (other): NA"
   ]
  },
  {
   "cell_type": "markdown",
   "metadata": {},
   "source": [
    "## 1. Gram-Schmidt (10 points)"
   ]
  },
  {
   "cell_type": "code",
   "execution_count": 7,
   "metadata": {},
   "outputs": [],
   "source": [
    "import numpy as np\n",
    "import numpy.linalg as la\n",
    "\n",
    "tol = 1e-14 # That's 1×10⁻¹⁴ = 0.00000000000001\n",
    "\n",
    "# Our first function will perform the Gram-Schmidt procedure for 4 basis vectors.\n",
    "# Go through the vectors one at a time and set them to be orthogonal\n",
    "# to all the vectors that came before it. \n",
    "# Normalising or making it unit vector.\n",
    "\n",
    "def orthoBasis4(A) :\n",
    "    B = np.array(A,dtype=np.float_) \n",
    "    # First column is easy.. just normalise it. I.e. divide by its norm.\n",
    "    B[:, 0] = B[:, 0] / la.norm(B[:, 0])\n",
    "    # For second column, we need to subtract the projection of the first vector on the second\n",
    "    B[:, 1] = B[:, 1] - B[:, 1] @ B[:, 0] * B[:, 0]\n",
    "    # Note that if it is non zero, then B[:, 1] is linearly independant of B[:, 0]\n",
    "    # If this is the case, we can normalise it. Otherwise we'll set that vector to zero.\n",
    "    if la.norm(B[:, 1]) > tol :\n",
    "        B[:, 1] = B[:, 1] / la.norm(B[:, 1])\n",
    "    else :\n",
    "        B[:, 1] = np.zeros_like(B[:, 1]) #zeros_like is similar to np.zeros but uses the dimension of input array\n",
    "    # Now we need to repeat the process for remaining columns\n",
    "    # Insert your code here. you can do it in 2 lines or one line\n",
    "    B[:,2] = B[:,2] - B[:, 2] @ B[:, 0] * B[:, 0]\n",
    "    B[:,2] = B[:,2] - B[:, 2] @ B[:, 1] * B[:, 1]\n",
    "        \n",
    "    \n",
    "    # Again we'll need to normalise our new vector.\n",
    "    # Repeat what we had done earlier\n",
    "    \n",
    "    if la.norm(B[:,2]) > tol :\n",
    "        B[:, 2] = B[:, 2] / la.norm(B[:, 2])\n",
    "    else :\n",
    "        B[:, 2] = np.zeros_like(B[:, 2])\n",
    "    \n",
    "    \n",
    "    # Finally, column three:\n",
    "    # Insert your code here. either one line or three lines\n",
    "    B[:,3] = B[:,3] - B[:, 3] @ B[:, 0] * B[:, 0]\n",
    "    B[:,3] = B[:,3] - B[:, 3] @ B[:, 1] * B[:, 1]\n",
    "    B[:,3] = B[:,3] - B[:, 3] @ B[:, 2] * B[:, 2]\n",
    "    \n",
    "    \n",
    "    # Now normalise if possible\n",
    "    if la.norm(B[:,3]) > tol :\n",
    "        B[:, 3] = B[:, 3] / la.norm(B[:, 3])  \n",
    "    else :\n",
    "        B[:, 3] = np.zeros_like(B[:, 3])\n",
    "  \n",
    "    \n",
    "    \n",
    "    # Finally, we return the result:\n",
    "    return B\n",
    "\n",
    "# Exploit the repetition in the above code to generalize the function for any given matrix\n",
    "def orthoBasis(A) :\n",
    "    B = np.array(A, dtype=np.float_) \n",
    "    # Loop over all vectors, starting with zero, label them with i\n",
    "    for i in range(B.shape[1]) :\n",
    "        # Inside that loop, loop over all previous vectors, j, to subtract.\n",
    "        for j in range(i) :\n",
    "            # Complete the code\n",
    "             B[:, i] = B[:,i] - B[:,i] @ B[:,j] * B[:,j]\n",
    "        # Next insert code to do the normalisation test for B[:, i]\n",
    "        if la.norm(B[:, i]) > tol :\n",
    "            B[:, i] = B[:, i] / la.norm(B[:, i])  \n",
    "        else :\n",
    "            B[:, i] = np.zeros_like(B[:, i]) \n",
    "        \n",
    "            \n",
    "    # Finally, we return the result:\n",
    "    return B\n",
    "\n"
   ]
  },
  {
   "cell_type": "raw",
   "metadata": {},
   "source": [
    "#sanity check. You should get the following solution if you run this\n",
    "V = np.array([[1,0,2,6],\n",
    "              [0,1,8,2],\n",
    "              [2,8,3,1],\n",
    "              [1,-6,2,3]], dtype=np.float_)\n",
    "orthoBasis4(V)\n",
    "\n",
    "array([[ 0.40824829, -0.1814885 ,  0.04982278,  0.89325973],\n",
    "       [ 0.        ,  0.1088931 ,  0.99349591, -0.03328918],\n",
    "       [ 0.81649658,  0.50816781, -0.06462163, -0.26631346],\n",
    "       [ 0.40824829, -0.83484711,  0.07942048, -0.36063281]])"
   ]
  },
  {
   "cell_type": "raw",
   "metadata": {},
   "source": [
    "#sanity check\n",
    "orthoBasis(V)\n",
    "\n",
    "array([[ 0.40824829, -0.1814885 ,  0.04982278,  0.89325973],\n",
    "       [ 0.        ,  0.1088931 ,  0.99349591, -0.03328918],\n",
    "       [ 0.81649658,  0.50816781, -0.06462163, -0.26631346],\n",
    "       [ 0.40824829, -0.83484711,  0.07942048, -0.36063281]])"
   ]
  },
  {
   "cell_type": "markdown",
   "metadata": {},
   "source": [
    "## 2. PageRank (5 points)\n",
    "In this notebook, you'll build on your knowledge of eigenvectors and eigenvalues by exploring the PageRank algorithm.\n"
   ]
  },
  {
   "cell_type": "markdown",
   "metadata": {},
   "source": [
    "### Introduction\n",
    "\n",
    "PageRank (developed by Larry Page and Sergey Brin) revolutionized web search by generating a\n",
    "ranked list of web pages based on the underlying connectivity of the web. The PageRank algorithm is\n",
    "based on an ideal random web surfer who, when reaching a page, goes to the next page by clicking on a\n",
    "link. The surfer has equal probability of clicking any link on the page and, when reaching a page with no\n",
    "links, has equal probability of moving to any other page by typing in its URL. In addition, the surfer may\n",
    "occasionally choose to type in a random URL instead of following the links on a page. The PageRank is\n",
    "the ranked order of the pages from the most to the least probable page the surfer will be viewing.\n"
   ]
  },
  {
   "cell_type": "code",
   "execution_count": 8,
   "metadata": {},
   "outputs": [],
   "source": [
    "import numpy as np\n",
    "import numpy.linalg as la\n",
    "np.set_printoptions(suppress=True)"
   ]
  },
  {
   "cell_type": "markdown",
   "metadata": {},
   "source": [
    "### PageRank as a linear algebra problem\n",
    "Let's imagine a micro-internet, with just 6 websites \n",
    "Each website links to some of the others, and this forms a network as shown,\n",
    "\n",
    "![A Micro-Internet](internet_1.png \"A Micro-Internet\")\n",
    "\n",
    "\n",
    "Imagine 100s of a person P on our micro-internet, each viewing a single website at a time.\n",
    "Each minute P follow a link on their website to another site on the micro-internet.\n",
    "After a while, the websites that are most linked to will have more Ps visiting them, and in the long run, each minute for every P that leaves a website, another will enter keeping the total numbers of Ps on each website constant.\n",
    "The PageRank is simply the ranking of websites by how many Ps they have on them at the end of this process.\n",
    "\n",
    "We represent the number of Ps on each website with the vector,\n",
    "$$\\mathbf{r} = \\begin{bmatrix} r_A \\\\ r_B \\\\ r_C \\\\ r_D \\\\ r_E \\\\ r_F \\end{bmatrix}$$\n",
    "And say that the number of Ps on each website in minute $i+1$ is related to those at minute $i$ by the matrix transformation\n",
    "\n",
    "$$ \\mathbf{r}^{(i+1)} = L \\,\\mathbf{r}^{(i)}$$\n",
    "with the matrix $L$ taking the form,\n",
    "$$ L = \\begin{bmatrix}\n",
    "L_{A→A} & L_{B→A} & L_{C→A} & L_{D→A} & L_{E→A} & L_{F→A} \\\\\n",
    "L_{A→B} & L_{B→B} & L_{C→B} & L_{D→B} & L_{E→B} & L_{F→B} \\\\\n",
    "L_{A→C} & L_{B→C} & L_{C→C} & L_{D→C} & L_{E→C} & L_{F→C} \\\\\n",
    "L_{A→D} & L_{B→D} & L_{C→D} & L_{D→D} & L_{E→D} & L_{F→D} \\\\\n",
    "L_{A→E} & L_{B→E} & L_{C→E} & L_{D→E} & L_{E→E} & L_{F→E} \\\\\n",
    "L_{A→F} & L_{B→F} & L_{C→F} & L_{D→F} & L_{E→F} & L_{F→F} \\\\\n",
    "\\end{bmatrix}\n",
    "$$\n",
    "where the columns represent the probability of leaving a website for any other website, and sum to one.\n",
    "The rows determine how likely you are to enter a website from any other, though these need not add to one.\n",
    "The long time behaviour of this system is when $ \\mathbf{r}^{(i+1)} = \\mathbf{r}^{(i)}$, so we'll drop the superscripts here, and that allows us to write,\n",
    "$$ L \\,\\mathbf{r} = \\mathbf{r}$$\n",
    "\n",
    "which is an eigenvalue equation for the matrix $L$, with eigenvalue 1 (this is guaranteed by the probabalistic structure of the matrix $L$).\n",
    "\n",
    "Complete the matrix $L$ below."
   ]
  },
  {
   "cell_type": "code",
   "execution_count": 9,
   "metadata": {},
   "outputs": [],
   "source": [
    "# Replace the ??? here with the probability of clicking a link to each website.\n",
    "L = np.array([[0,   1/2, 1/3, 0, 0,   0   ],\n",
    "              [1/3, 0,   0,   0, 1/2, 0   ],\n",
    "              [1/3, 1/2, 0,   1, 0,   1/2 ],\n",
    "              [1/3, 0,   1/3, 0, 1/2, 1/2 ],\n",
    "              [0,   0,   0,   0, 0,   0   ],\n",
    "              [0,   0,   1/3, 0, 0,   0   ]])"
   ]
  },
  {
   "cell_type": "markdown",
   "metadata": {},
   "source": [
    "In principle, we could use a linear algebra library, as below, to calculate the eigenvalues and vectors.\n",
    "And this would work for a small system. But this gets unmanagable for large systems.\n",
    "And since we only care about the principal eigenvector (the one with the largest eigenvalue, which will be 1 in this case), we can use the *power iteration method* which will scale better, and is faster for large systems.\n",
    "\n",
    "Since this is a small system, we could as well calculate the eigen vector."
   ]
  },
  {
   "cell_type": "code",
   "execution_count": 10,
   "metadata": {},
   "outputs": [
    {
     "data": {
      "text/plain": [
       "array([16.        ,  5.33333333, 40.        , 25.33333333,  0.        ,\n",
       "       13.33333333])"
      ]
     },
     "execution_count": 10,
     "metadata": {},
     "output_type": "execute_result"
    }
   ],
   "source": [
    "eVals, eVecs = la.eig(L) # Gets the eigenvalues and vectors\n",
    "order = np.absolute(eVals).argsort()[::-1] # Orders them by their eigenvalues\n",
    "eVals = eVals[order]\n",
    "eVecs = eVecs[:,order]\n",
    "\n",
    "r = eVecs[:, 0] # Sets r to be the principal eigenvector\n",
    "100 * np.real(r / np.sum(r)) # Make this eigenvector sum to one, then multiply by 100 Procrastinating Pats"
   ]
  },
  {
   "cell_type": "markdown",
   "metadata": {},
   "source": [
    "We can see from this list, the number of Ps that we expect to find on each website after long times.\n",
    "Putting them in order of *popularity* (based on this metric), the PageRank of this micro-internet is:\n",
    "\n",
    "**C**, **D**, **A**, **F**, **B**, **E**\n",
    "\n",
    "Referring back to the micro-internet diagram, is this what you would have expected?\n",
    "Convince yourself that based on which pages seem important given which others link to them, that this is a sensible ranking.\n",
    "\n",
    "Let's now try to get the same result using the Power-Iteration method that we covered in the class.\n",
    "This method will be much better at dealing with large systems.\n",
    "\n",
    "First let's set up our initial vector, $\\mathbf{r}^{(0)}$, so that we have our 100 Ps equally distributed on each of our 6 websites."
   ]
  },
  {
   "cell_type": "code",
   "execution_count": 11,
   "metadata": {},
   "outputs": [
    {
     "data": {
      "text/plain": [
       "array([16.66666667, 16.66666667, 16.66666667, 16.66666667, 16.66666667,\n",
       "       16.66666667])"
      ]
     },
     "execution_count": 11,
     "metadata": {},
     "output_type": "execute_result"
    }
   ],
   "source": [
    "r = 100 * np.ones(6) / 6 # Sets up this vector (6 entries of 1/6 × 100 each)\n",
    "r # Shows it's value"
   ]
  },
  {
   "cell_type": "markdown",
   "metadata": {},
   "source": [
    "Next, let's update the vector to the next minute, with the matrix $L$.\n",
    "Run the following cell multiple times, until the answer stabilises."
   ]
  },
  {
   "cell_type": "code",
   "execution_count": 12,
   "metadata": {},
   "outputs": [
    {
     "data": {
      "text/plain": [
       "array([13.88888889, 13.88888889, 38.88888889, 27.77777778,  0.        ,\n",
       "        5.55555556])"
      ]
     },
     "execution_count": 12,
     "metadata": {},
     "output_type": "execute_result"
    }
   ],
   "source": [
    "r = L @ r # Apply matrix L to r\n",
    "r # Show it's value\n",
    "# Re-run this cell multiple times to converge to the correct answer."
   ]
  },
  {
   "cell_type": "markdown",
   "metadata": {},
   "source": [
    "We can automate applying this matrix multiple times as follows,"
   ]
  },
  {
   "cell_type": "code",
   "execution_count": 13,
   "metadata": {},
   "outputs": [
    {
     "data": {
      "text/plain": [
       "array([16.        ,  5.33333333, 40.        , 25.33333333,  0.        ,\n",
       "       13.33333333])"
      ]
     },
     "execution_count": 13,
     "metadata": {},
     "output_type": "execute_result"
    }
   ],
   "source": [
    "r = 100 * np.ones(6) / 6 # Sets up this vector (6 entries of 1/6 × 100 each)\n",
    "for i in np.arange(100) : # Repeat 100 times\n",
    "    r = L @ r\n",
    "r"
   ]
  },
  {
   "cell_type": "markdown",
   "metadata": {},
   "source": [
    "Or even better, we can keep running until we get to the required tolerance."
   ]
  },
  {
   "cell_type": "code",
   "execution_count": 14,
   "metadata": {},
   "outputs": [
    {
     "name": "stdout",
     "output_type": "stream",
     "text": [
      "27 iterations to convergence.\n"
     ]
    },
    {
     "data": {
      "text/plain": [
       "array([15.99999654,  5.33332932, 40.00003127, 25.33332012,  0.        ,\n",
       "       13.33332275])"
      ]
     },
     "execution_count": 14,
     "metadata": {},
     "output_type": "execute_result"
    }
   ],
   "source": [
    "r = 100 * np.ones(6) / 6 # Sets up this vector (6 entries of 1/6 × 100 each)\n",
    "lastR = r\n",
    "r = L @ r\n",
    "i = 0\n",
    "while la.norm(lastR - r) > 0.0001 :\n",
    "    lastR = r\n",
    "    r = L @ r\n",
    "    i += 1\n",
    "print(str(i) + \" iterations to convergence.\")\n",
    "r"
   ]
  },
  {
   "cell_type": "markdown",
   "metadata": {},
   "source": [
    "See how the PageRank order is established fairly quickly, and the vector converges on the value we calculated earlier after a few tens of repeats."
   ]
  },
  {
   "cell_type": "markdown",
   "metadata": {},
   "source": [
    "### Damping Parameter\n",
    "The system we just studied converged fairly quickly to the correct answer.\n",
    "Let's consider an extension to our micro-internet where things start to go wrong.\n",
    "\n",
    "Say a new website is added to the micro-internet: *G* Website.\n",
    "This website is linked to by *FaceSpace* and only links to itself.\n",
    "![An Expanded Micro-Internet](internet_2.png \"An Expanded Micro-Internet\")\n",
    "\n",
    "Intuitively, only *F*, which is in the bottom half of the page rank, links to this website amongst the two others it links to,\n",
    "so we might expect *G* site to have a correspondingly low PageRank score.\n",
    "\n",
    "Build the new $L$ matrix for the expanded micro-internet, and use Power-Iteration."
   ]
  },
  {
   "cell_type": "code",
   "execution_count": 15,
   "metadata": {},
   "outputs": [],
   "source": [
    " # We'll call this one L2, to distinguish it from the previous L.\n",
    "L2 = np.array([[0,   1/2, 1/3, 0, 0,   0,   0 ],\n",
    "               [1/3, 0,   0,   0, 1/2, 0,   0 ],\n",
    "               [1/3, 1/2, 0,   1, 0,   1/3, 0 ],\n",
    "               [1/3, 0,   1/3, 0, 1/2, 1/3, 0 ],\n",
    "               [0,   0,   0,   0, 0,   0,   0 ],\n",
    "               [0,   0,   1/3, 0, 0,   0,   0 ],\n",
    "               [0,   0,   0,   0, 0,   1/3, 1 ]])"
   ]
  },
  {
   "cell_type": "code",
   "execution_count": 31,
   "metadata": {
    "scrolled": true
   },
   "outputs": [
    {
     "name": "stdout",
     "output_type": "stream",
     "text": [
      "229 iterations to convergence.\n"
     ]
    },
    {
     "data": {
      "text/plain": [
       "array([ 0.00031063,  0.0001085 ,  0.00072654,  0.00045093,  0.        ,\n",
       "        0.00025378, 99.99814961])"
      ]
     },
     "execution_count": 31,
     "metadata": {},
     "output_type": "execute_result"
    }
   ],
   "source": [
    "r = 100 * np.ones(7) / 7 # Sets up this vector (6 entries of 1/6 × 100 each)\n",
    "lastR = r\n",
    "r = L2 @ r\n",
    "i = 0\n",
    "while la.norm(lastR - r) > 0.0001 :\n",
    "    lastR = r\n",
    "    r = L2 @ r\n",
    "    i += 1\n",
    "print(str(i) + \" iterations to convergence.\")\n",
    "r"
   ]
  },
  {
   "cell_type": "markdown",
   "metadata": {},
   "source": [
    "That's no good! *G* seems to be taking all the traffic on the micro-internet, and somehow coming at the top of the PageRank.\n",
    "This behaviour can be understood, because once a P get's to *G* Website, they can't leave, as all links head back to Geoff.\n",
    "\n",
    "To combat this, we can add a small probability that the Ps don't follow any link on a webpage, but instead visit a website on the micro-internet at random.\n",
    "We'll say the probability of them following a link is $d$ and the probability of choosing a random website is therefore $1-d$.\n",
    "We can use a new matrix to work out where the Pat's visit each minute.\n",
    "$$ M = d \\, L + \\frac{1-d}{n} \\, J $$\n",
    "where $J$ is an $n\\times n$ matrix where every element is one.\n",
    "\n",
    "If $d$ is one, we have the case we had previously, whereas if $d$ is zero, we will always visit a random webpage and therefore all webpages will be equally likely and equally ranked.\n",
    "For this extension to work best, $1-d$ should be somewhat small - though we won't go into a discussion about exactly how small.\n",
    "\n",
    "Let's retry this PageRank with this extension."
   ]
  },
  {
   "cell_type": "code",
   "execution_count": 17,
   "metadata": {},
   "outputs": [],
   "source": [
    "d = 0.85 # Feel free to play with this parameter after running the code once.\n",
    "M = d * L2 + (1-d)/7 * np.ones([7, 7]) # np.ones() is the J matrix, with ones for each entry."
   ]
  },
  {
   "cell_type": "code",
   "execution_count": 18,
   "metadata": {},
   "outputs": [
    {
     "name": "stdout",
     "output_type": "stream",
     "text": [
      "29 iterations to convergence.\n"
     ]
    },
    {
     "data": {
      "text/plain": [
       "array([11.65489945,  6.35616623, 24.03389289, 15.70372502,  2.14285714,\n",
       "        8.95333321, 31.15512605])"
      ]
     },
     "execution_count": 18,
     "metadata": {},
     "output_type": "execute_result"
    }
   ],
   "source": [
    "r = 100 * np.ones(7) / 7 # Sets up this vector (6 entries of 1/6 × 100 each)\n",
    "lastR = r\n",
    "r = M @ r\n",
    "i = 0\n",
    "while la.norm(lastR - r) > 0.01 :\n",
    "    lastR = r\n",
    "    r = M @ r\n",
    "    i += 1\n",
    "print(str(i) + \" iterations to convergence.\")\n",
    "r"
   ]
  },
  {
   "cell_type": "markdown",
   "metadata": {},
   "source": [
    "This is certainly better, the PageRank gives sensible numbers for the Procrastinating Pats that end up on each webpage.\n",
    "This method still predicts Geoff has a high ranking webpage however.\n",
    "This could be seen as a consequence of using a small network. We could also get around the problem by not counting self-links when producing the L matrix (an if a website has no outgoing links, make it link to all websites equally).\n",
    "We won't look further down this route, as this is in the realm of improvements to PageRank, rather than eigenproblems.\n",
    "\n",
    "You are now in a good position, having gained an understanding of PageRank, to produce your own code to calculate the PageRank of a website with thousands of entries.\n",
    "\n",
    "Good Luck!"
   ]
  },
  {
   "cell_type": "markdown",
   "metadata": {},
   "source": [
    "## Exercise\n",
    "Produce a function that can calculate the PageRank for an arbitrarily large probability matrix.\n"
   ]
  },
  {
   "cell_type": "code",
   "execution_count": 19,
   "metadata": {},
   "outputs": [],
   "source": [
    "# Input link matrix L (which can be generated using the code given below) and damping factor d.\n",
    "def pageRank(L, d) :\n",
    "    n = L.shape[0]\n",
    "    M = d * L + (1-d)/n * np.ones([n, n])\n",
    "    r = 100 * np.ones(n) / n\n",
    "    \n",
    "    lastR = r\n",
    "    r = M @ r\n",
    "    \n",
    "    while la.norm(lastR - r) > 0.01:\n",
    "        lastR = r\n",
    "        r = M @ r\n",
    "    \n",
    "    return r\n",
    "    \n"
   ]
  },
  {
   "cell_type": "code",
   "execution_count": 20,
   "metadata": {},
   "outputs": [],
   "source": [
    "#generatea random internet links\n",
    "def generate_link(n) :\n",
    "    c = np.full([n,n], np.arange(n))\n",
    "    c = (abs(np.random.standard_cauchy([n,n])/2) > (np.abs(c - c.T) + 1))+0\n",
    "    c = (c+1e-10) / np.sum((c+1e-10), axis=0)\n",
    "    return c"
   ]
  },
  {
   "cell_type": "code",
   "execution_count": 21,
   "metadata": {},
   "outputs": [
    {
     "data": {
      "text/plain": [
       "array([[0.5, 0.2, 0. , 0.2, 0. ],\n",
       "       [0. , 0.2, 0.5, 0.2, 0. ],\n",
       "       [0.5, 0.2, 0.5, 0.2, 0. ],\n",
       "       [0. , 0.2, 0. , 0.2, 1. ],\n",
       "       [0. , 0.2, 0. , 0.2, 0. ]])"
      ]
     },
     "execution_count": 21,
     "metadata": {},
     "output_type": "execute_result"
    }
   ],
   "source": [
    "# Use the following function to generate internets of different sizes.\n",
    "generate_link(5)"
   ]
  },
  {
   "cell_type": "code",
   "execution_count": 22,
   "metadata": {},
   "outputs": [],
   "source": [
    "# Test your PageRank method against the built in \"eig\" method.\n",
    "L = generate_link(5)"
   ]
  },
  {
   "cell_type": "code",
   "execution_count": 23,
   "metadata": {},
   "outputs": [
    {
     "data": {
      "text/plain": [
       "array([99.97329202,  0.00549218,  0.0078618 ,  0.00549218,  0.0078618 ])"
      ]
     },
     "execution_count": 23,
     "metadata": {},
     "output_type": "execute_result"
    }
   ],
   "source": [
    "pageRank(L, 1)"
   ]
  },
  {
   "cell_type": "code",
   "execution_count": 27,
   "metadata": {},
   "outputs": [
    {
     "data": {
      "text/plain": [
       "array([99.99999982,  0.00000004,  0.00000005,  0.00000004,  0.00000005])"
      ]
     },
     "execution_count": 27,
     "metadata": {},
     "output_type": "execute_result"
    }
   ],
   "source": [
    "# using eigen vectors as seen before.\n",
    "eVals, eVecs = la.eig(L) # Gets the eigenvalues and vectors\n",
    "order = np.absolute(eVals).argsort()[::-1] # Orders them by their eigenvalues\n",
    "eVals = eVals[order]\n",
    "eVecs = eVecs[:,order]\n",
    "\n",
    "r = eVecs[:, 0]\n",
    "100 * np.real(r / np.sum(r))"
   ]
  },
  {
   "cell_type": "code",
   "execution_count": 80,
   "metadata": {},
   "outputs": [],
   "source": [
    "#your answers do not match always. Why?"
   ]
  },
  {
   "cell_type": "code",
   "execution_count": null,
   "metadata": {},
   "outputs": [],
   "source": []
  }
 ],
 "metadata": {
  "kernelspec": {
   "display_name": "Python 3 (ipykernel)",
   "language": "python",
   "name": "python3"
  },
  "language_info": {
   "codemirror_mode": {
    "name": "ipython",
    "version": 3
   },
   "file_extension": ".py",
   "mimetype": "text/x-python",
   "name": "python",
   "nbconvert_exporter": "python",
   "pygments_lexer": "ipython3",
   "version": "3.9.7"
  }
 },
 "nbformat": 4,
 "nbformat_minor": 4
}
